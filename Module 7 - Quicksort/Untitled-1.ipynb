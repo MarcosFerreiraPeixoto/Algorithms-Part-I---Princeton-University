{
 "cells": [
  {
   "cell_type": "code",
   "execution_count": 24,
   "metadata": {},
   "outputs": [],
   "source": [
    "class Quicksort():\n",
    "    def sort(self, l, lo=None, hi=None):\n",
    "        print(lo, hi)\n",
    "        if lo is None and hi is None:\n",
    "            lo = 0\n",
    "            hi = len(l) -1 \n",
    "        elif lo + 1 >= hi:\n",
    "            return\n",
    "        \n",
    "        value = l[lo]\n",
    "\n",
    "        i = l[lo + 1]\n",
    "        j = l[hi] \n",
    "\n",
    "        while j >= i:\n",
    "            while self.less(l[i], value):\n",
    "                i += 1\n",
    "\n",
    "            while self.less(value, l[j]):\n",
    "                j -= 1\n",
    "            \n",
    "            l[i], l[j] = l[j], l[i]\n",
    "\n",
    "        l[0], l[j] = l[j], l[0]\n",
    "        \n",
    "        print(l)\n",
    "        self.sort(l, lo, j)\n",
    "        self.sort(l, i, hi)\n",
    "\n",
    "    def is_sorted(self, l):\n",
    "        for i in range(1, len(l)):\n",
    "            \n",
    "            if self._less(l[i], l[i-1]):\n",
    "                return False\n",
    "        \n",
    "        return True\n",
    "    \n",
    "    def _less(self, a, b):\n",
    "        return a < b"
   ]
  },
  {
   "cell_type": "code",
   "execution_count": 20,
   "metadata": {},
   "outputs": [],
   "source": [
    "sorter = Quicksort()"
   ]
  },
  {
   "cell_type": "code",
   "execution_count": 21,
   "metadata": {},
   "outputs": [
    {
     "name": "stdout",
     "output_type": "stream",
     "text": [
      "None None\n",
      "[5, 6, 4, 3, 2, 1]\n",
      "0 1\n",
      "5 5\n"
     ]
    }
   ],
   "source": [
    "l = [6,5,4,3,2,1]\n",
    "sorter.sort(l)"
   ]
  },
  {
   "cell_type": "code",
   "execution_count": 22,
   "metadata": {},
   "outputs": [
    {
     "data": {
      "text/plain": [
       "[5, 6, 4, 3, 2, 1]"
      ]
     },
     "execution_count": 22,
     "metadata": {},
     "output_type": "execute_result"
    }
   ],
   "source": [
    "l"
   ]
  },
  {
   "cell_type": "code",
   "execution_count": null,
   "metadata": {},
   "outputs": [],
   "source": []
  }
 ],
 "metadata": {
  "kernelspec": {
   "display_name": "Python 3",
   "language": "python",
   "name": "python3"
  },
  "language_info": {
   "codemirror_mode": {
    "name": "ipython",
    "version": 3
   },
   "file_extension": ".py",
   "mimetype": "text/x-python",
   "name": "python",
   "nbconvert_exporter": "python",
   "pygments_lexer": "ipython3",
   "version": "3.12.3"
  }
 },
 "nbformat": 4,
 "nbformat_minor": 2
}
