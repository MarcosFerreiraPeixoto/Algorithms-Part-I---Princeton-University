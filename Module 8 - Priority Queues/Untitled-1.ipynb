{
 "cells": [
  {
   "cell_type": "markdown",
   "metadata": {},
   "source": []
  },
  {
   "cell_type": "code",
   "execution_count": 65,
   "metadata": {},
   "outputs": [],
   "source": [
    "from typing import List\n",
    "from copy import deepcopy\n",
    "\n",
    "class Board():\n",
    "    def __init__(self, matrix: List[List[int]]):\n",
    "        self._board = matrix\n",
    "        self.n = len(matrix)\n",
    "        self._goal_board = self._generate_goal_board()\n",
    "\n",
    "    def dimension(self):\n",
    "        return self.n\n",
    "    \n",
    "    def hamming(self):\n",
    "        hamming = 0\n",
    "\n",
    "        for i in range(self.n):\n",
    "            for j in range(self.n):\n",
    "                if self._board[i][j] != 0 and self._board[i][j] != self._goal_board[i][j]:\n",
    "                    hamming += 1\n",
    "\n",
    "        return hamming\n",
    "    \n",
    "    def manhattan(self):\n",
    "        manhattan = 0\n",
    "\n",
    "        for i in range(self.n):\n",
    "            for j in range(self.n):\n",
    "                value = self._board[i][j]\n",
    "                expected_value = self._goal_board[i][j]\n",
    "\n",
    "                if value != 0 and value != expected_value:\n",
    "                    if expected_value != 0:\n",
    "                        diff = abs(value - expected_value)\n",
    "                    else:\n",
    "                        diff = abs(value - self.n**2)\n",
    "                    manhattan += diff//self.n + diff%self.n\n",
    "\n",
    "        return manhattan\n",
    "\n",
    "    def is_goal(self):\n",
    "        return self._board == self._goal_board\n",
    "\n",
    "    def neighbors(self):\n",
    "        neighbors = []\n",
    "        i, j = self._get_zero_position()\n",
    "\n",
    "        if i != 0:\n",
    "            neighbor_matrix = deepcopy(self._board)\n",
    "            neighbor_matrix[i][j], neighbor_matrix[i-1][j] = neighbor_matrix[i-1][j], neighbor_matrix[i][j]\n",
    "\n",
    "            neighbors.append(Board(neighbor_matrix))\n",
    "\n",
    "        if i != (self.n - 1):\n",
    "            neighbor_matrix = deepcopy(self._board)\n",
    "            neighbor_matrix[i][j], neighbor_matrix[i+1][j] = neighbor_matrix[i+1][j], neighbor_matrix[i][j]\n",
    "\n",
    "            neighbors.append(Board(neighbor_matrix))\n",
    "        \n",
    "        if j != 0:\n",
    "            neighbor_matrix = deepcopy(self._board)\n",
    "            neighbor_matrix[i][j], neighbor_matrix[i][j-1] = neighbor_matrix[i][j-1], neighbor_matrix[i][j]\n",
    "\n",
    "            neighbors.append(Board(neighbor_matrix))\n",
    "\n",
    "        if j != (self.n - 1):\n",
    "            neighbor_matrix = deepcopy(self._board)\n",
    "            neighbor_matrix[i][j], neighbor_matrix[i][j+1] = neighbor_matrix[i][j + 1], neighbor_matrix[i][j]\n",
    "\n",
    "            neighbors.append(Board(neighbor_matrix))\n",
    "        \n",
    "        return neighbors\n",
    "\n",
    "    def _get_zero_position(self):\n",
    "        for i in range(self.n):\n",
    "            for j in range(self.n):\n",
    "                if self._board[i][j] == 0:\n",
    "                    return i, j        \n",
    "        \n",
    "\n",
    "    def _generate_goal_board(self):\n",
    "        nums = [0] + list(range(self.n**2 - 1, 0, -1))\n",
    "        \n",
    "        return [[nums.pop() for _ in range(self.n)] for _ in range(self.n)]\n",
    "\n",
    "    def __eq__(self, other: 'Board'):\n",
    "        if not isinstance(other, Board):\n",
    "            return False\n",
    "        return self._board == other._board\n",
    "    \n",
    "    def __str__(self):\n",
    "        result = f\"{self.n}\\n\"\n",
    "        result += \"\\n\".join(\" \".join(map(str, row)) for row in self._board)\n",
    "        return result"
   ]
  },
  {
   "cell_type": "code",
   "execution_count": 66,
   "metadata": {},
   "outputs": [],
   "source": [
    "matrix = [\n",
    "    [8, 1, 3],\n",
    "    [0, 4, 2],\n",
    "    [7, 6, 5]\n",
    "]\n",
    "\n",
    "b = Board(matrix)"
   ]
  },
  {
   "cell_type": "code",
   "execution_count": 67,
   "metadata": {},
   "outputs": [
    {
     "name": "stdout",
     "output_type": "stream",
     "text": [
      "3\n",
      "8 1 3\n",
      "0 4 2\n",
      "7 6 5\n"
     ]
    }
   ],
   "source": [
    "print(b)"
   ]
  },
  {
   "cell_type": "code",
   "execution_count": 68,
   "metadata": {},
   "outputs": [
    {
     "data": {
      "text/plain": [
       "[[1, 2, 3], [4, 5, 6], [7, 8, 0]]"
      ]
     },
     "execution_count": 68,
     "metadata": {},
     "output_type": "execute_result"
    }
   ],
   "source": [
    "b._goal_board"
   ]
  },
  {
   "cell_type": "code",
   "execution_count": 69,
   "metadata": {},
   "outputs": [
    {
     "data": {
      "text/plain": [
       "6"
      ]
     },
     "execution_count": 69,
     "metadata": {},
     "output_type": "execute_result"
    }
   ],
   "source": [
    "b.hamming()"
   ]
  },
  {
   "cell_type": "code",
   "execution_count": 70,
   "metadata": {},
   "outputs": [
    {
     "data": {
      "text/plain": [
       "11"
      ]
     },
     "execution_count": 70,
     "metadata": {},
     "output_type": "execute_result"
    }
   ],
   "source": [
    "b.manhattan()"
   ]
  },
  {
   "cell_type": "code",
   "execution_count": 76,
   "metadata": {},
   "outputs": [
    {
     "name": "stdout",
     "output_type": "stream",
     "text": [
      "board\n",
      "3\n",
      "8 1 3\n",
      "0 4 2\n",
      "7 6 5\n",
      "-------------\n",
      "neighbors\n",
      "3\n",
      "0 1 3\n",
      "8 4 2\n",
      "7 6 5\n",
      "------------------\n",
      "3\n",
      "8 1 3\n",
      "7 4 2\n",
      "0 6 5\n",
      "------------------\n",
      "3\n",
      "8 1 3\n",
      "4 0 2\n",
      "7 6 5\n",
      "------------------\n"
     ]
    }
   ],
   "source": [
    "print(\"board\")\n",
    "print(b)\n",
    "neighbors = b.neighbors()\n",
    "print(\"-------------\")\n",
    "print(\"neighbors\")\n",
    "for n in neighbors:\n",
    "    print(n)\n",
    "    print(\"------------------\")"
   ]
  },
  {
   "cell_type": "code",
   "execution_count": null,
   "metadata": {},
   "outputs": [],
   "source": []
  },
  {
   "cell_type": "code",
   "execution_count": null,
   "metadata": {},
   "outputs": [],
   "source": []
  }
 ],
 "metadata": {
  "kernelspec": {
   "display_name": "Python 3",
   "language": "python",
   "name": "python3"
  },
  "language_info": {
   "codemirror_mode": {
    "name": "ipython",
    "version": 3
   },
   "file_extension": ".py",
   "mimetype": "text/x-python",
   "name": "python",
   "nbconvert_exporter": "python",
   "pygments_lexer": "ipython3",
   "version": "3.12.3"
  }
 },
 "nbformat": 4,
 "nbformat_minor": 2
}
