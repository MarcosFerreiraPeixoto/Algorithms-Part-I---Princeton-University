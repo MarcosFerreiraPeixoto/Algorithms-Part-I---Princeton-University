{
 "cells": [
  {
   "cell_type": "markdown",
   "metadata": {},
   "source": []
  },
  {
   "cell_type": "code",
   "execution_count": 100,
   "metadata": {},
   "outputs": [],
   "source": [
    "from MinPQNoDuplicates import MinPQNoDuplicates\n",
    "from Board import Board, BoardComparator\n",
    "from typing import List\n",
    "\n",
    "class Solver():\n",
    "    def __init__(self, board: Board):\n",
    "        if board is None or not isinstance(board, Board):\n",
    "            raise TypeError(\"The input must be a Board type!\")\n",
    "\n",
    "        # Main solution\n",
    "        self.is_main_board_solvable = True\n",
    "        self.board_solution: List[Board] = []\n",
    "        pq: MinPQNoDuplicates = MinPQNoDuplicates(BoardComparator())\n",
    "        pq.insert(board)\n",
    "\n",
    "        # Twin solution to check if board is solvable\n",
    "        twin_board = board.twin()\n",
    "        twin_pq: MinPQNoDuplicates = MinPQNoDuplicates(BoardComparator())\n",
    "        twin_pq.insert(twin_board)\n",
    "        print(twin_board)\n",
    "\n",
    "        min_board_pq: Board = pq.del_min()\n",
    "        min_twin_board_pq: Board = twin_pq.del_min()\n",
    "        while not min_board_pq.is_goal() and not min_twin_board_pq.is_goal():\n",
    "            self.board_solution.append(min_board_pq)\n",
    "\n",
    "            neighbors: List[Board] = min_board_pq.neighbors()\n",
    "            neighbors_twin: List[Board] = min_twin_board_pq.neighbors()\n",
    "\n",
    "            for n in neighbors:\n",
    "                pq.insert(n)\n",
    "\n",
    "            for n in neighbors_twin:\n",
    "                twin_pq.insert(n)\n",
    "\n",
    "            min_board_pq: Board = pq.del_min()\n",
    "            min_twin_board_pq: Board = twin_pq.del_min()\n",
    "\n",
    "        if min_twin_board_pq.is_goal():\n",
    "            self.is_main_board_solvable = False\n",
    "            self.board_solution = None\n",
    "            return\n",
    "\n",
    "        self.board_solution.append(min_board_pq)\n",
    "\n",
    "    def is_solvable(self):\n",
    "        return self.is_main_board_solvable\n",
    "\n",
    "    def moves(self):\n",
    "        if self.board_solution is None:\n",
    "            return -1\n",
    "        return self.board_solution[-1].moves\n",
    "\n",
    "    def solution(self):\n",
    "        return self.board_solution"
   ]
  },
  {
   "cell_type": "code",
   "execution_count": 101,
   "metadata": {},
   "outputs": [],
   "source": [
    "matrix = [\n",
    "    [0, 2, 3],\n",
    "    [1, 7, 5],\n",
    "    [8, 4, 6]\n",
    "]\n",
    "\n",
    "b = Board(matrix)"
   ]
  },
  {
   "cell_type": "code",
   "execution_count": 102,
   "metadata": {},
   "outputs": [
    {
     "name": "stdout",
     "output_type": "stream",
     "text": [
      "3\n",
      "0 3 2\n",
      "1 7 5\n",
      "8 4 6\n"
     ]
    }
   ],
   "source": [
    "solver = Solver(b)"
   ]
  },
  {
   "cell_type": "code",
   "execution_count": 103,
   "metadata": {},
   "outputs": [
    {
     "data": {
      "text/plain": [
       "True"
      ]
     },
     "execution_count": 103,
     "metadata": {},
     "output_type": "execute_result"
    }
   ],
   "source": [
    "solver.is_solvable()"
   ]
  },
  {
   "cell_type": "code",
   "execution_count": 104,
   "metadata": {},
   "outputs": [
    {
     "name": "stdout",
     "output_type": "stream",
     "text": [
      "3\n",
      "0 2 3\n",
      "1 7 5\n",
      "8 4 6\n",
      "3\n",
      "1 2 3\n",
      "0 7 5\n",
      "8 4 6\n",
      "3\n",
      "1 2 3\n",
      "7 0 5\n",
      "8 4 6\n",
      "3\n",
      "1 2 3\n",
      "7 4 5\n",
      "8 0 6\n",
      "3\n",
      "1 2 3\n",
      "7 5 0\n",
      "8 4 6\n",
      "3\n",
      "1 2 3\n",
      "7 4 5\n",
      "0 8 6\n",
      "3\n",
      "1 2 3\n",
      "7 5 6\n",
      "8 4 0\n",
      "3\n",
      "1 2 3\n",
      "0 4 5\n",
      "7 8 6\n",
      "3\n",
      "1 2 3\n",
      "4 0 5\n",
      "7 8 6\n",
      "3\n",
      "1 2 3\n",
      "4 5 0\n",
      "7 8 6\n",
      "3\n",
      "1 2 3\n",
      "4 5 6\n",
      "7 8 0\n"
     ]
    }
   ],
   "source": [
    "for sol in solver.solution():\n",
    "    print(sol)"
   ]
  },
  {
   "cell_type": "code",
   "execution_count": 99,
   "metadata": {},
   "outputs": [
    {
     "data": {
      "text/plain": [
       "8"
      ]
     },
     "execution_count": 99,
     "metadata": {},
     "output_type": "execute_result"
    }
   ],
   "source": [
    "solver.moves()"
   ]
  },
  {
   "cell_type": "code",
   "execution_count": 33,
   "metadata": {},
   "outputs": [
    {
     "data": {
      "text/plain": [
       "[[1, 2, 3], [4, 5, 6], [7, 8, 0]]"
      ]
     },
     "execution_count": 52,
     "metadata": {},
     "output_type": "execute_result"
    }
   ],
   "source": [
    "b._goal_board"
   ]
  },
  {
   "cell_type": "code",
   "execution_count": 69,
   "metadata": {},
   "outputs": [
    {
     "data": {
      "text/plain": [
       "5"
      ]
     },
     "execution_count": 53,
     "metadata": {},
     "output_type": "execute_result"
    }
   ],
   "source": [
    "b.hamming()"
   ]
  },
  {
   "cell_type": "code",
   "execution_count": 70,
   "metadata": {},
   "outputs": [
    {
     "data": {
      "text/plain": [
       "11"
      ]
     },
     "execution_count": 70,
     "metadata": {},
     "output_type": "execute_result"
    }
   ],
   "source": [
    "b.manhattan()"
   ]
  },
  {
   "cell_type": "code",
   "execution_count": 76,
   "metadata": {},
   "outputs": [
    {
     "name": "stdout",
     "output_type": "stream",
     "text": [
      "board\n",
      "3\n",
      "8 1 3\n",
      "0 4 2\n",
      "7 6 5\n",
      "-------------\n",
      "neighbors\n",
      "3\n",
      "0 1 3\n",
      "8 4 2\n",
      "7 6 5\n",
      "------------------\n",
      "3\n",
      "8 1 3\n",
      "7 4 2\n",
      "0 6 5\n",
      "------------------\n",
      "3\n",
      "8 1 3\n",
      "4 0 2\n",
      "7 6 5\n",
      "------------------\n"
     ]
    }
   ],
   "source": [
    "print(\"board\")\n",
    "print(b)\n",
    "neighbors = b.neighbors()\n",
    "print(\"-------------\")\n",
    "print(\"neighbors\")\n",
    "for n in neighbors:\n",
    "    print(n)\n",
    "    print(\"------------------\")"
   ]
  },
  {
   "cell_type": "code",
   "execution_count": null,
   "metadata": {},
   "outputs": [],
   "source": []
  },
  {
   "cell_type": "code",
   "execution_count": null,
   "metadata": {},
   "outputs": [],
   "source": []
  }
 ],
 "metadata": {
  "kernelspec": {
   "display_name": "Python 3",
   "language": "python",
   "name": "python3"
  },
  "language_info": {
   "codemirror_mode": {
    "name": "ipython",
    "version": 3
   },
   "file_extension": ".py",
   "mimetype": "text/x-python",
   "name": "python",
   "nbconvert_exporter": "python",
   "pygments_lexer": "ipython3",
   "version": "3.12.3"
  }
 },
 "nbformat": 4,
 "nbformat_minor": 2
}
